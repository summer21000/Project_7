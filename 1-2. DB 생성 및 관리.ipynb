{
 "cells": [
  {
   "cell_type": "markdown",
   "metadata": {
    "id": "cVB9pY-v8uv5"
   },
   "source": [
    "# **DB 생성 및 관리**"
   ]
  },
  {
   "cell_type": "markdown",
   "metadata": {
    "id": "qTa9LlwZD_aa"
   },
   "source": [
    "## **1.환경준비**"
   ]
  },
  {
   "cell_type": "code",
   "execution_count": 1,
   "metadata": {
    "id": "GVvCef6A8uv6"
   },
   "outputs": [],
   "source": [
    "import pandas as pd\n",
    "import sqlite3\n",
    "\n",
    "import warnings\n",
    "warnings.filterwarnings(\"ignore\", category=DeprecationWarning)"
   ]
  },
  {
   "cell_type": "markdown",
   "metadata": {
    "id": "mnk1VvHm2Ka0"
   },
   "source": [
    "## **2.DB 작업**"
   ]
  },
  {
   "cell_type": "markdown",
   "metadata": {
    "id": "CiKsfjcrKx6Q"
   },
   "source": [
    "### (1) DB 생성 및 연결\n",
    "\n",
    "* 데이터베이스 연결\n",
    "    * 폴더는 미리 생성\n",
    "    * 해당 파일이 없으면 새로 생성, 있으면 연결"
   ]
  },
  {
   "cell_type": "code",
   "execution_count": 2,
   "metadata": {
    "id": "Xj5yt-Ufi1jU"
   },
   "outputs": [],
   "source": [
    "path = 'testdb.db'\n",
    "conn = sqlite3.connect(path)"
   ]
  },
  {
   "cell_type": "markdown",
   "metadata": {
    "id": "QVjd2weqKx6R"
   },
   "source": [
    "### (2) DB 작업 절차\n",
    "\n",
    "* 1) 커서 활용 : 대부분의 SQL 작업 가능\n",
    "    * ① 연결\n",
    "    * ② 커서 선언\n",
    "    * ③ 작업 : sql\n",
    "    * ④ 커밋(수정작업 저장)\n",
    "    * ⑤ 연결종료\n",
    "\n",
    "* 2) pandas 함수 활용 : 주로 insert, update, delete, select, create table & insert\n",
    "    * ① 연결\n",
    "    * ② 작업 : pandas 함수 이용\n",
    "    * ③ 연결종료"
   ]
  },
  {
   "cell_type": "markdown",
   "metadata": {
    "id": "BU2UcVmNKx6R"
   },
   "source": [
    "#### 1) 테이블 생성\n",
    "* 테이블 생성 작업\n",
    "    * DB Browser for SQLite 에서 직접 수행\n",
    "    * 파이썬에서 **연결**하고, **커서**를 생성해서 작업"
   ]
  },
  {
   "cell_type": "code",
   "execution_count": 3,
   "metadata": {
    "id": "sJc6Ey9nKx6R"
   },
   "outputs": [],
   "source": [
    "# 커서 객체 생성\n",
    "cursor = conn.cursor()\n",
    "\n",
    "# test 테이블 생성\n",
    "cursor.execute('''\n",
    "CREATE TABLE IF NOT EXISTS test (\n",
    "    id INTEGER PRIMARY KEY,\n",
    "    name TEXT NOT NULL,\n",
    "    age INTEGER NOT NULL\n",
    ")\n",
    "''')\n",
    "\n",
    "# 변경사항 커밋 (저장)\n",
    "conn.commit()\n",
    "\n",
    "# 연결 종료\n",
    "conn.close()"
   ]
  },
  {
   "cell_type": "markdown",
   "metadata": {
    "id": "vmCv_f9yVWCb"
   },
   "source": []
  },
  {
   "cell_type": "markdown",
   "metadata": {
    "id": "Nw7N3UJ4Kx6R"
   },
   "source": [
    "#### 2) insert\n",
    "* 데이터프레임에서 직접 DB로 보내기 : df.to_sql"
   ]
  },
  {
   "cell_type": "code",
   "execution_count": 4,
   "metadata": {
    "id": "jVnqHmvmKx6R"
   },
   "outputs": [],
   "source": [
    "# ① 연결\n",
    "conn = sqlite3.connect(path)\n",
    "\n",
    "# ② 작업 : to_sql\n",
    "data = pd.DataFrame({'name': ['Alice', 'Bob', 'Charlie', 'David'], 'age': [30, 25, 35, 40]})\n",
    "data.to_sql('test', conn, if_exists='append', index=False) # test 테이블이 있으면 insert, 없으면 생성\n",
    "\n",
    "# ③ 연결 종료\n",
    "conn.close()"
   ]
  },
  {
   "cell_type": "markdown",
   "metadata": {
    "id": "MskRubvYKx6S"
   },
   "source": [
    "#### 3) Select"
   ]
  },
  {
   "cell_type": "code",
   "execution_count": 5,
   "metadata": {
    "id": "3jkkcu6SKx6S"
   },
   "outputs": [
    {
     "data": {
      "text/html": [
       "<div>\n",
       "<style scoped>\n",
       "    .dataframe tbody tr th:only-of-type {\n",
       "        vertical-align: middle;\n",
       "    }\n",
       "\n",
       "    .dataframe tbody tr th {\n",
       "        vertical-align: top;\n",
       "    }\n",
       "\n",
       "    .dataframe thead th {\n",
       "        text-align: right;\n",
       "    }\n",
       "</style>\n",
       "<table border=\"1\" class=\"dataframe\">\n",
       "  <thead>\n",
       "    <tr style=\"text-align: right;\">\n",
       "      <th></th>\n",
       "      <th>id</th>\n",
       "      <th>name</th>\n",
       "      <th>age</th>\n",
       "    </tr>\n",
       "  </thead>\n",
       "  <tbody>\n",
       "    <tr>\n",
       "      <th>0</th>\n",
       "      <td>1</td>\n",
       "      <td>Alice</td>\n",
       "      <td>30</td>\n",
       "    </tr>\n",
       "    <tr>\n",
       "      <th>1</th>\n",
       "      <td>2</td>\n",
       "      <td>Bob</td>\n",
       "      <td>25</td>\n",
       "    </tr>\n",
       "    <tr>\n",
       "      <th>2</th>\n",
       "      <td>3</td>\n",
       "      <td>Charlie</td>\n",
       "      <td>35</td>\n",
       "    </tr>\n",
       "    <tr>\n",
       "      <th>3</th>\n",
       "      <td>4</td>\n",
       "      <td>David</td>\n",
       "      <td>40</td>\n",
       "    </tr>\n",
       "  </tbody>\n",
       "</table>\n",
       "</div>"
      ],
      "text/plain": [
       "   id     name  age\n",
       "0   1    Alice   30\n",
       "1   2      Bob   25\n",
       "2   3  Charlie   35\n",
       "3   4    David   40"
      ]
     },
     "metadata": {},
     "output_type": "display_data"
    }
   ],
   "source": [
    "# ① 연결\n",
    "conn = sqlite3.connect(path)\n",
    "\n",
    "# ② 작업 : select\n",
    "df = pd.read_sql('SELECT * FROM test', conn)\n",
    "display(df)\n",
    "\n",
    "# ③ 연결 종료\n",
    "conn.close()"
   ]
  },
  {
   "cell_type": "markdown",
   "metadata": {
    "id": "AIKf8LWNKx6S"
   },
   "source": [
    "#### 4) Drop"
   ]
  },
  {
   "cell_type": "markdown",
   "metadata": {
    "id": "OmdftvsxKx6S"
   },
   "source": [
    "* 커서로만 작업 가능"
   ]
  },
  {
   "cell_type": "code",
   "execution_count": 6,
   "metadata": {
    "id": "5T8sI0glKx6T"
   },
   "outputs": [],
   "source": [
    "# ① 연결\n",
    "conn = sqlite3.connect(path)\n",
    "\n",
    "# ② 커서 선언\n",
    "cursor = conn.cursor()\n",
    "\n",
    "# ③ 작업 : 테이블 삭제\n",
    "cursor.execute('DROP TABLE IF EXISTS test')\n",
    "\n",
    "# ④ 커밋(수정작업 저장)\n",
    "conn.commit()\n",
    "\n",
    "# ⑤ 연결종료\n",
    "conn.close()"
   ]
  },
  {
   "cell_type": "markdown",
   "metadata": {
    "id": "8a6vtE7BKx6T"
   },
   "source": [
    "## **3.관리용 DB**\n"
   ]
  },
  {
   "cell_type": "markdown",
   "metadata": {
    "id": "4sW9iMcCWj-y"
   },
   "source": [
    "### (1) DB 생성\n",
    "\n",
    "* DB를 아래 경로와 이름으로 생성\n",
    "    * project7/db/em.db"
   ]
  },
  {
   "cell_type": "code",
   "execution_count": 7,
   "metadata": {
    "id": "zpuI3doDW3MO"
   },
   "outputs": [],
   "source": [
    "path = 'db/em.db'\n",
    "conn = sqlite3.connect(path)"
   ]
  },
  {
   "cell_type": "markdown",
   "metadata": {
    "id": "esNjCTM4W4Qb"
   },
   "source": [
    "### (2) log 테이블 생성\n",
    "* 칼럼 구성\n",
    "\n",
    "|column name | descrition | data type | comment |\n",
    "|----|----|----|----|\n",
    "|datetime | 요청일시 | text | yyyy-mm-dd hh:mi:ss |\n",
    "|input_text | 입력text | text |  |\n",
    "|input_latitude | 입력 위도 | real |  |\n",
    "|input_longitude | 입력 경도 | real |  |\n",
    "|em_class | 응급 등급(1~5) | integer |  |\n",
    "|hospital1 | 추천병원명 | text |  |\n",
    "|addr1 | 추천병원주소 | text |  |\n",
    "|tel1 | 추천병원전화번호 | text |  |\n",
    "|hospital2 | 추천병원명2 | text |  |\n",
    "|addr2 | 추천병원주소2 | text |  |\n",
    "|tel2 | 추천병원전화번호2 | text |  |\n",
    "|hospital3 | 추천병원명3 | text |  |\n",
    "|addr3 | 추천병원주소3 | text |  |\n",
    "|tel3 | 추천병원전화번호3 | text |  |"
   ]
  },
  {
   "cell_type": "code",
   "execution_count": 8,
   "metadata": {
    "id": "e41vGW_FZUsq"
   },
   "outputs": [],
   "source": [
    "cursor = conn.cursor()\n",
    "\n",
    "cursor.execute('''\n",
    "CREATE TABLE IF NOT EXISTS log (\n",
    "    id INTEGER PRIMARY KEY,\n",
    "    datetime TEXT,\n",
    "    input_text TEXT,\n",
    "    input_latitude REAL,\n",
    "    input_longitude REAL,\n",
    "    em_class INTEGER,\n",
    "    hospital1 TEXT,\n",
    "    addr1 TEXT,\n",
    "    tel1 TEXT,\n",
    "    hospital2 TEXT,\n",
    "    addr2 TEXT,\n",
    "    tel2 TEXT,\n",
    "    hospital3 TEXT,\n",
    "    addr3 TEXT,\n",
    "    tel3 TEXT\n",
    ")\n",
    "''')\n",
    "\n",
    "\n",
    "# 변경사항 커밋 (저장)\n",
    "conn.commit()\n",
    "\n",
    "# 연결 종료\n",
    "conn.close()"
   ]
  },
  {
   "cell_type": "code",
   "execution_count": 9,
   "metadata": {},
   "outputs": [
    {
     "data": {
      "text/html": [
       "<div>\n",
       "<style scoped>\n",
       "    .dataframe tbody tr th:only-of-type {\n",
       "        vertical-align: middle;\n",
       "    }\n",
       "\n",
       "    .dataframe tbody tr th {\n",
       "        vertical-align: top;\n",
       "    }\n",
       "\n",
       "    .dataframe thead th {\n",
       "        text-align: right;\n",
       "    }\n",
       "</style>\n",
       "<table border=\"1\" class=\"dataframe\">\n",
       "  <thead>\n",
       "    <tr style=\"text-align: right;\">\n",
       "      <th></th>\n",
       "      <th>id</th>\n",
       "      <th>datetime</th>\n",
       "      <th>input_text</th>\n",
       "      <th>input_latitude</th>\n",
       "      <th>input_longitude</th>\n",
       "      <th>em_class</th>\n",
       "      <th>hospital1</th>\n",
       "      <th>addr1</th>\n",
       "      <th>tel1</th>\n",
       "      <th>hospital2</th>\n",
       "      <th>addr2</th>\n",
       "      <th>tel2</th>\n",
       "      <th>hospital3</th>\n",
       "      <th>addr3</th>\n",
       "      <th>tel3</th>\n",
       "    </tr>\n",
       "  </thead>\n",
       "  <tbody>\n",
       "  </tbody>\n",
       "</table>\n",
       "</div>"
      ],
      "text/plain": [
       "Empty DataFrame\n",
       "Columns: [id, datetime, input_text, input_latitude, input_longitude, em_class, hospital1, addr1, tel1, hospital2, addr2, tel2, hospital3, addr3, tel3]\n",
       "Index: []"
      ]
     },
     "metadata": {},
     "output_type": "display_data"
    }
   ],
   "source": [
    "conn = sqlite3.connect(path)\n",
    "\n",
    "# ② 작업 : select\n",
    "df = pd.read_sql('SELECT * FROM log', conn)\n",
    "display(df)\n",
    "\n",
    "# ③ 연결 종료\n",
    "conn.close()"
   ]
  },
  {
   "cell_type": "markdown",
   "metadata": {
    "id": "3SLXNGgvbFWG"
   },
   "source": [
    "### (3) log 테이블 입력 함수"
   ]
  },
  {
   "cell_type": "markdown",
   "metadata": {
    "id": "T1UJT7xFZXPL"
   },
   "source": [
    "* 현재 일시 저장하기 예제\n",
    "            # 현재 연월일 시분초 뽑기\n",
    "            from datetime import datetime\n",
    "            dt = datetime.now()\n",
    "            dt = dt.strftime('%Y-%m-%d %H:%M:%S')\n"
   ]
  },
  {
   "cell_type": "code",
   "execution_count": 10,
   "metadata": {},
   "outputs": [],
   "source": [
    "from datetime import datetime"
   ]
  },
  {
   "cell_type": "code",
   "execution_count": 11,
   "metadata": {},
   "outputs": [],
   "source": [
    "# conn = sqlite3.connect(path)\n",
    "\n",
    "# dt = datetime.now()\n",
    "# dt = dt.strftime('%Y-%m-%d %H:%M:%S')\n",
    "\n",
    "# data = pd.DataFrame({'datetime': [dt]})\n",
    "# data.to_sql('log', conn, if_exists='append', index=False)\n",
    "\n",
    "# conn.close()"
   ]
  },
  {
   "cell_type": "code",
   "execution_count": 12,
   "metadata": {},
   "outputs": [
    {
     "data": {
      "text/html": [
       "<div>\n",
       "<style scoped>\n",
       "    .dataframe tbody tr th:only-of-type {\n",
       "        vertical-align: middle;\n",
       "    }\n",
       "\n",
       "    .dataframe tbody tr th {\n",
       "        vertical-align: top;\n",
       "    }\n",
       "\n",
       "    .dataframe thead th {\n",
       "        text-align: right;\n",
       "    }\n",
       "</style>\n",
       "<table border=\"1\" class=\"dataframe\">\n",
       "  <thead>\n",
       "    <tr style=\"text-align: right;\">\n",
       "      <th></th>\n",
       "      <th>id</th>\n",
       "      <th>datetime</th>\n",
       "      <th>input_text</th>\n",
       "      <th>input_latitude</th>\n",
       "      <th>input_longitude</th>\n",
       "      <th>em_class</th>\n",
       "      <th>hospital1</th>\n",
       "      <th>addr1</th>\n",
       "      <th>tel1</th>\n",
       "      <th>hospital2</th>\n",
       "      <th>addr2</th>\n",
       "      <th>tel2</th>\n",
       "      <th>hospital3</th>\n",
       "      <th>addr3</th>\n",
       "      <th>tel3</th>\n",
       "    </tr>\n",
       "  </thead>\n",
       "  <tbody>\n",
       "  </tbody>\n",
       "</table>\n",
       "</div>"
      ],
      "text/plain": [
       "Empty DataFrame\n",
       "Columns: [id, datetime, input_text, input_latitude, input_longitude, em_class, hospital1, addr1, tel1, hospital2, addr2, tel2, hospital3, addr3, tel3]\n",
       "Index: []"
      ]
     },
     "metadata": {},
     "output_type": "display_data"
    }
   ],
   "source": [
    "conn = sqlite3.connect(path)\n",
    "\n",
    "df = pd.read_sql('SELECT * FROM log', conn)\n",
    "display(df)\n",
    "\n",
    "conn.close()"
   ]
  },
  {
   "cell_type": "code",
   "execution_count": 13,
   "metadata": {},
   "outputs": [
    {
     "name": "stderr",
     "output_type": "stream",
     "text": [
      "c:\\Users\\User\\anaconda3\\envs\\mini7-fastapi\\Lib\\site-packages\\tqdm\\auto.py:21: TqdmWarning: IProgress not found. Please update jupyter and ipywidgets. See https://ipywidgets.readthedocs.io/en/stable/user_install.html\n",
      "  from .autonotebook import tqdm as notebook_tqdm\n"
     ]
    }
   ],
   "source": [
    "import os\n",
    "import requests\n",
    "import xml.etree.ElementTree as ET\n",
    "import pandas as pd\n",
    "import openai\n",
    "from openai import OpenAI\n",
    "import json\n",
    "import torch\n",
    "import sys\n",
    "sys.path.append(path)\n",
    "\n",
    "from transformers import AutoTokenizer, AutoModelForSequenceClassification\n",
    "\n",
    "import emergency_ai26 as em\n",
    "\n",
    "from datetime import datetime"
   ]
  },
  {
   "cell_type": "code",
   "execution_count": 14,
   "metadata": {},
   "outputs": [
    {
     "data": {
      "text/html": [
       "<div>\n",
       "<style scoped>\n",
       "    .dataframe tbody tr th:only-of-type {\n",
       "        vertical-align: middle;\n",
       "    }\n",
       "\n",
       "    .dataframe tbody tr th {\n",
       "        vertical-align: top;\n",
       "    }\n",
       "\n",
       "    .dataframe thead th {\n",
       "        text-align: right;\n",
       "    }\n",
       "</style>\n",
       "<table border=\"1\" class=\"dataframe\">\n",
       "  <thead>\n",
       "    <tr style=\"text-align: right;\">\n",
       "      <th></th>\n",
       "      <th>병원이름</th>\n",
       "      <th>주소</th>\n",
       "      <th>응급의료기관 종류</th>\n",
       "      <th>전화번호 1</th>\n",
       "      <th>전화번호 3</th>\n",
       "      <th>위도</th>\n",
       "      <th>경도</th>\n",
       "      <th>거리</th>\n",
       "    </tr>\n",
       "  </thead>\n",
       "  <tbody>\n",
       "    <tr>\n",
       "      <th>0</th>\n",
       "      <td>(의)내경의료재단울산제일병원</td>\n",
       "      <td>울산광역시 남구 남산로354번길 26 (신정동)</td>\n",
       "      <td>응급실운영신고기관</td>\n",
       "      <td>052-220-3300</td>\n",
       "      <td>052-220-3334</td>\n",
       "      <td>35.548238</td>\n",
       "      <td>129.307011</td>\n",
       "      <td>0</td>\n",
       "    </tr>\n",
       "    <tr>\n",
       "      <th>1</th>\n",
       "      <td>의료법인동강의료재단동강병원</td>\n",
       "      <td>울산광역시 중구 태화로 239 (태화동)</td>\n",
       "      <td>지역응급의료센터</td>\n",
       "      <td>052-241-1114</td>\n",
       "      <td>052-241-1190</td>\n",
       "      <td>35.553410</td>\n",
       "      <td>129.301943</td>\n",
       "      <td>2032</td>\n",
       "    </tr>\n",
       "    <tr>\n",
       "      <th>2</th>\n",
       "      <td>의료법인정안의료재단중앙병원</td>\n",
       "      <td>울산광역시 남구 문수로 472, 중앙병원 (신정동)</td>\n",
       "      <td>지역응급의료센터</td>\n",
       "      <td>052-226-1100</td>\n",
       "      <td>052-226-1119</td>\n",
       "      <td>35.532088</td>\n",
       "      <td>129.304840</td>\n",
       "      <td>2125</td>\n",
       "    </tr>\n",
       "  </tbody>\n",
       "</table>\n",
       "</div>"
      ],
      "text/plain": [
       "              병원이름                            주소  응급의료기관 종류        전화번호 1  \\\n",
       "0  (의)내경의료재단울산제일병원    울산광역시 남구 남산로354번길 26 (신정동)  응급실운영신고기관  052-220-3300   \n",
       "1   의료법인동강의료재단동강병원        울산광역시 중구 태화로 239 (태화동)   지역응급의료센터  052-241-1114   \n",
       "2   의료법인정안의료재단중앙병원  울산광역시 남구 문수로 472, 중앙병원 (신정동)   지역응급의료센터  052-226-1100   \n",
       "\n",
       "         전화번호 3         위도          경도    거리  \n",
       "0  052-220-3334  35.548238  129.307011     0  \n",
       "1  052-241-1190  35.553410  129.301943  2032  \n",
       "2  052-226-1119  35.532088  129.304840  2125  "
      ]
     },
     "metadata": {},
     "output_type": "display_data"
    }
   ],
   "source": [
    "path = './'\n",
    "\n",
    "dt = datetime.now()\n",
    "dt = dt.strftime('%Y-%m-%d %H:%M:%S')\n",
    "\n",
    "data = pd.DataFrame({'datetime': [dt]})\n",
    "# data.to_sql('log', conn, if_exists='append', index=False)\n",
    "\n",
    "openai.api_key = em.load_keys(path + 'api_key.txt')\n",
    "os.environ['OPENAI_API_KEY'] = openai.api_key\n",
    "\n",
    "map_key = em.load_keys(path + 'map_key.txt')\n",
    "map_key = json.loads(map_key)\n",
    "c_id, c_key = map_key['c_id'], map_key['c_key']\n",
    "\n",
    "emergency = pd.read_csv(path + '응급실 정보.csv')\n",
    "\n",
    "# 모델, 토크나이저 로드\n",
    "save_directory = path + \"fine_tuned_bert_ai26\"\n",
    "model = AutoModelForSequenceClassification.from_pretrained(save_directory)\n",
    "tokenizer = AutoTokenizer.from_pretrained(save_directory)\n",
    "\n",
    "\n",
    "# 2. 데이터 처리(pipeline) ---------------------------------\n",
    "# input\n",
    "audio_path = path + 'audio/'\n",
    "filename = 'audio1.mp3'\n",
    "\n",
    "# 처리\n",
    "result = em.audio2text(audio_path, filename)\n",
    "result = em.text2summary(result)\n",
    "\n",
    "data[\"input_text\"] = result\n",
    "\n",
    "device = torch.device(\"cuda\" if torch.cuda.is_available() else \"cpu\")\n",
    "predicted_class, _ = em.predict(result, model, tokenizer,device)\n",
    "\n",
    "data[\"em_class\"] = predicted_class\n",
    "\n",
    "# 테스트 input --------------------\n",
    "predicted_class = 2  # 테스트용\n",
    "start_lat, start_lng = 35.548238, 129.307011\n",
    "# ---------------------------------\n",
    "\n",
    "data[[\"input_latitude\",\"input_longitude\"]] = [start_lat,start_lng]\n",
    "\n",
    "if predicted_class <= 2 :\n",
    "    result = em.recommend_hospital(emergency, start_lat, start_lng, 0.1, c_id, c_key)\n",
    "    display(result)\n",
    "    for idx, row in result.iterrows():\n",
    "        data[f\"hospital{idx+1}\"] = row[\"병원이름\"]\n",
    "        data[f\"addr{idx+1}\"] = row[\"주소\"]\n",
    "        data[f\"tel{idx+1}\"] = row[\"전화번호 1\"]\n",
    "    \n",
    "else :\n",
    "    print('개인 건강관리')\n",
    "    \n",
    "path = 'db/em.db'\n",
    "conn = sqlite3.connect(path)\n",
    "\n",
    "data.to_sql('log', conn, if_exists='append', index=False) # test 테이블이 있으면 insert, 없으면 생성\n",
    "\n",
    "conn.close()"
   ]
  },
  {
   "cell_type": "code",
   "execution_count": 15,
   "metadata": {},
   "outputs": [
    {
     "data": {
      "text/html": [
       "<div>\n",
       "<style scoped>\n",
       "    .dataframe tbody tr th:only-of-type {\n",
       "        vertical-align: middle;\n",
       "    }\n",
       "\n",
       "    .dataframe tbody tr th {\n",
       "        vertical-align: top;\n",
       "    }\n",
       "\n",
       "    .dataframe thead th {\n",
       "        text-align: right;\n",
       "    }\n",
       "</style>\n",
       "<table border=\"1\" class=\"dataframe\">\n",
       "  <thead>\n",
       "    <tr style=\"text-align: right;\">\n",
       "      <th></th>\n",
       "      <th>id</th>\n",
       "      <th>datetime</th>\n",
       "      <th>input_text</th>\n",
       "      <th>input_latitude</th>\n",
       "      <th>input_longitude</th>\n",
       "      <th>em_class</th>\n",
       "      <th>hospital1</th>\n",
       "      <th>addr1</th>\n",
       "      <th>tel1</th>\n",
       "      <th>hospital2</th>\n",
       "      <th>addr2</th>\n",
       "      <th>tel2</th>\n",
       "      <th>hospital3</th>\n",
       "      <th>addr3</th>\n",
       "      <th>tel3</th>\n",
       "    </tr>\n",
       "  </thead>\n",
       "  <tbody>\n",
       "    <tr>\n",
       "      <th>0</th>\n",
       "      <td>1</td>\n",
       "      <td>2024-12-19 15:50:28</td>\n",
       "      <td>남성이 머리에서 피가 나면서 넘어져서 어지럽다고 합니다. 현재 물을 마셔서 있지만 ...</td>\n",
       "      <td>35.548238</td>\n",
       "      <td>129.307011</td>\n",
       "      <td>3</td>\n",
       "      <td>(의)내경의료재단울산제일병원</td>\n",
       "      <td>울산광역시 남구 남산로354번길 26 (신정동)</td>\n",
       "      <td>052-220-3300</td>\n",
       "      <td>의료법인동강의료재단동강병원</td>\n",
       "      <td>울산광역시 중구 태화로 239 (태화동)</td>\n",
       "      <td>052-241-1114</td>\n",
       "      <td>의료법인정안의료재단중앙병원</td>\n",
       "      <td>울산광역시 남구 문수로 472, 중앙병원 (신정동)</td>\n",
       "      <td>052-226-1100</td>\n",
       "    </tr>\n",
       "  </tbody>\n",
       "</table>\n",
       "</div>"
      ],
      "text/plain": [
       "   id             datetime                                         input_text  \\\n",
       "0   1  2024-12-19 15:50:28  남성이 머리에서 피가 나면서 넘어져서 어지럽다고 합니다. 현재 물을 마셔서 있지만 ...   \n",
       "\n",
       "   input_latitude  input_longitude  em_class        hospital1  \\\n",
       "0       35.548238       129.307011         3  (의)내경의료재단울산제일병원   \n",
       "\n",
       "                        addr1          tel1       hospital2  \\\n",
       "0  울산광역시 남구 남산로354번길 26 (신정동)  052-220-3300  의료법인동강의료재단동강병원   \n",
       "\n",
       "                    addr2          tel2       hospital3  \\\n",
       "0  울산광역시 중구 태화로 239 (태화동)  052-241-1114  의료법인정안의료재단중앙병원   \n",
       "\n",
       "                          addr3          tel3  \n",
       "0  울산광역시 남구 문수로 472, 중앙병원 (신정동)  052-226-1100  "
      ]
     },
     "metadata": {},
     "output_type": "display_data"
    }
   ],
   "source": [
    "conn = sqlite3.connect(path)\n",
    "\n",
    "df = pd.read_sql('SELECT * FROM log', conn)\n",
    "display(df)\n",
    "\n",
    "conn.close()"
   ]
  },
  {
   "cell_type": "code",
   "execution_count": null,
   "metadata": {},
   "outputs": [],
   "source": []
  },
  {
   "cell_type": "code",
   "execution_count": null,
   "metadata": {},
   "outputs": [],
   "source": []
  }
 ],
 "metadata": {
  "colab": {
   "provenance": [],
   "toc_visible": true
  },
  "kernelspec": {
   "display_name": "mini7-fastapi",
   "language": "python",
   "name": "python3"
  },
  "language_info": {
   "codemirror_mode": {
    "name": "ipython",
    "version": 3
   },
   "file_extension": ".py",
   "mimetype": "text/x-python",
   "name": "python",
   "nbconvert_exporter": "python",
   "pygments_lexer": "ipython3",
   "version": "3.12.8"
  }
 },
 "nbformat": 4,
 "nbformat_minor": 0
}
