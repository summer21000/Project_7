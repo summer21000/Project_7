{
 "cells": [
  {
   "cell_type": "markdown",
   "metadata": {
    "id": "4p06IPOk5xil"
   },
   "source": [
    "# **1-1. 통합 테스트**"
   ]
  },
  {
   "cell_type": "markdown",
   "metadata": {
    "id": "76Pw6f64d5VU"
   },
   "source": [
    "## **1.환경설정**"
   ]
  },
  {
   "cell_type": "markdown",
   "metadata": {
    "id": "1is0ZmzXeBrA"
   },
   "source": [
    "### (1) 경로 설정\n",
    "\n",
    "로컬 경로 설정"
   ]
  },
  {
   "cell_type": "code",
   "execution_count": 1,
   "metadata": {
    "id": "JhVujnYp4TJe"
   },
   "outputs": [],
   "source": [
    "path = './'"
   ]
  },
  {
   "cell_type": "markdown",
   "metadata": {
    "id": "6aFiucu6evl_"
   },
   "source": [
    "### (2) 라이브러리"
   ]
  },
  {
   "cell_type": "code",
   "execution_count": 2,
   "metadata": {
    "id": "_bx5a2MBfAt2"
   },
   "outputs": [],
   "source": [
    "#필요한 라이브러리 설치 및 불러우기\n",
    "import os\n",
    "import requests\n",
    "import xml.etree.ElementTree as ET\n",
    "import pandas as pd\n",
    "import openai\n",
    "from openai import OpenAI\n",
    "import json\n",
    "import torch\n",
    "import sys\n",
    "sys.path.append(path)\n",
    "\n",
    "from transformers import AutoTokenizer, AutoModelForSequenceClassification\n",
    "\n",
    "\n",
    "# 더 필요한 라이브러리 추가 -------------\n",
    "import emergency as em"
   ]
  },
  {
   "cell_type": "markdown",
   "metadata": {
    "id": "l-qzK-Egog5E"
   },
   "source": [
    "## **2. 단위 테스트**\n",
    "\n",
    "* 세부사항 : 아래 단계별로 데이터가 순차적으로 처리되도록 단위 테스트를 진행합니다."
   ]
  },
  {
   "cell_type": "markdown",
   "metadata": {
    "id": "Y2h3kvuJekAJ"
   },
   "source": [
    "### (1) open ai key 등록"
   ]
  },
  {
   "cell_type": "code",
   "execution_count": 17,
   "metadata": {
    "id": "fCh3jcGOekAK"
   },
   "outputs": [],
   "source": [
    "openai.api_key = em.load_file(path + 'api_key.txt')\n",
    "os.environ['OPENAI_API_KEY'] = openai.api_key"
   ]
  },
  {
   "cell_type": "markdown",
   "metadata": {
    "id": "jn3tn-GuK0My"
   },
   "source": [
    "### (2) audio to text"
   ]
  },
  {
   "cell_type": "code",
   "execution_count": 9,
   "metadata": {
    "id": "2jcNEwGveebo"
   },
   "outputs": [
    {
     "data": {
      "text/plain": [
       "'지금 아빠가 넘어졌어요. 머리에서 피가 나는데 숨은 쉬고 있어요. 지금 막 일어났어요. 근데 조금 어지럽다고 하네요. 네네 계단에서 굴렀어요. 지금은 물 마시고 있는데 이거 응급실로 가봐야 할까요? 피도 지금 머졌어요. 네네 나이는 마흔아홉 살 이세요. 어떻게 해야 할지 모르겠어요.\\n'"
      ]
     },
     "execution_count": 9,
     "metadata": {},
     "output_type": "execute_result"
    }
   ],
   "source": [
    "audio_path = path + 'audio/'\n",
    "filename = 'audio1.mp3'\n",
    "result = em.audio_to_text(audio_path, filename)\n",
    "result"
   ]
  },
  {
   "cell_type": "markdown",
   "metadata": {
    "id": "DnyVoEvqe81v"
   },
   "source": [
    "### (3) text summary"
   ]
  },
  {
   "cell_type": "code",
   "execution_count": 11,
   "metadata": {
    "id": "2vVlh-oXe81v"
   },
   "outputs": [
    {
     "data": {
      "text/plain": [
       "'39세의 아버지가 계단에서 넘어져 머리에서 피가 나며 숨을 쉬고 있습니다. 응급상황으로 응급실로 이동해야 합니다., 아버지, 머리 출혈, 응급실'"
      ]
     },
     "execution_count": 11,
     "metadata": {},
     "output_type": "execute_result"
    }
   ],
   "source": [
    "result = em.text_summary(result)\n",
    "result"
   ]
  },
  {
   "cell_type": "markdown",
   "metadata": {
    "id": "Q1WvCVInfMQw"
   },
   "source": [
    "### (4) 응급실 등급분류"
   ]
  },
  {
   "cell_type": "code",
   "execution_count": 12,
   "metadata": {
    "id": "4ECAESD3UYnI"
   },
   "outputs": [],
   "source": [
    "# 모델, 토크나이저 로드\n",
    "save_directory = path + \"fine_tuned_bert\"\n",
    "model = AutoModelForSequenceClassification.from_pretrained(save_directory)\n",
    "tokenizer = AutoTokenizer.from_pretrained(save_directory)"
   ]
  },
  {
   "cell_type": "code",
   "execution_count": 13,
   "metadata": {
    "id": "e-maRgSLUh86"
   },
   "outputs": [
    {
     "name": "stdout",
     "output_type": "stream",
     "text": [
      "예측된 클래스: 1\n",
      "예측된 클래스 이름: 2등급\n",
      "클래스별 확률: tensor([[0.1670, 0.3206, 0.1676, 0.1936, 0.1512]])\n"
     ]
    }
   ],
   "source": [
    "predicted_class, probabilities = em.predict(result, model, tokenizer)\n",
    "\n",
    "print(f\"예측된 클래스: {predicted_class}\")\n",
    "print(f\"예측된 클래스 이름: {predicted_class+1}등급\")\n",
    "print(f\"클래스별 확률: {probabilities}\")"
   ]
  },
  {
   "cell_type": "markdown",
   "metadata": {
    "id": "lL0Np_CFrA5g"
   },
   "source": [
    "### (5) 응급실추천"
   ]
  },
  {
   "cell_type": "code",
   "execution_count": 14,
   "metadata": {
    "id": "MwsOD-DEr_4Q"
   },
   "outputs": [],
   "source": [
    "emergency = pd.read_csv(path + '응급실 정보.csv')\n",
    "\n",
    "map_key = em.load_file(path + 'map_key.txt')\n",
    "map_key = json.loads(map_key)\n",
    "c_id, c_key = map_key['c_id'], map_key['c_key']"
   ]
  },
  {
   "cell_type": "code",
   "execution_count": 15,
   "metadata": {
    "id": "OrjVbo7Zrpag"
   },
   "outputs": [
    {
     "name": "stdout",
     "output_type": "stream",
     "text": [
      "응답 데이터에서 예상되는 키를 찾을 수 없음: 'route'\n"
     ]
    },
    {
     "data": {
      "text/html": [
       "<div>\n",
       "<style scoped>\n",
       "    .dataframe tbody tr th:only-of-type {\n",
       "        vertical-align: middle;\n",
       "    }\n",
       "\n",
       "    .dataframe tbody tr th {\n",
       "        vertical-align: top;\n",
       "    }\n",
       "\n",
       "    .dataframe thead th {\n",
       "        text-align: right;\n",
       "    }\n",
       "</style>\n",
       "<table border=\"1\" class=\"dataframe\">\n",
       "  <thead>\n",
       "    <tr style=\"text-align: right;\">\n",
       "      <th></th>\n",
       "      <th>병원이름</th>\n",
       "      <th>주소</th>\n",
       "      <th>응급의료기관 종류</th>\n",
       "      <th>전화번호 1</th>\n",
       "      <th>전화번호 3</th>\n",
       "      <th>위도</th>\n",
       "      <th>경도</th>\n",
       "      <th>거리</th>\n",
       "    </tr>\n",
       "  </thead>\n",
       "  <tbody>\n",
       "    <tr>\n",
       "      <th>299</th>\n",
       "      <td>의료법인동강의료재단동강병원</td>\n",
       "      <td>울산광역시 중구 태화로 239 (태화동)</td>\n",
       "      <td>지역응급의료센터</td>\n",
       "      <td>052-241-1114</td>\n",
       "      <td>052-241-1190</td>\n",
       "      <td>35.553410</td>\n",
       "      <td>129.301943</td>\n",
       "      <td>2.032</td>\n",
       "    </tr>\n",
       "    <tr>\n",
       "      <th>367</th>\n",
       "      <td>의료법인정안의료재단중앙병원</td>\n",
       "      <td>울산광역시 남구 문수로 472, 중앙병원 (신정동)</td>\n",
       "      <td>지역응급의료센터</td>\n",
       "      <td>052-226-1100</td>\n",
       "      <td>052-226-1119</td>\n",
       "      <td>35.532088</td>\n",
       "      <td>129.304840</td>\n",
       "      <td>2.125</td>\n",
       "    </tr>\n",
       "    <tr>\n",
       "      <th>252</th>\n",
       "      <td>울산병원</td>\n",
       "      <td>울산광역시 남구 월평로171번길 13 (신정동)</td>\n",
       "      <td>지역응급의료센터</td>\n",
       "      <td>052-259-5000</td>\n",
       "      <td>052-259-5119</td>\n",
       "      <td>35.546217</td>\n",
       "      <td>129.323100</td>\n",
       "      <td>2.390</td>\n",
       "    </tr>\n",
       "  </tbody>\n",
       "</table>\n",
       "</div>"
      ],
      "text/plain": [
       "               병원이름                            주소 응급의료기관 종류        전화번호 1  \\\n",
       "299  의료법인동강의료재단동강병원        울산광역시 중구 태화로 239 (태화동)  지역응급의료센터  052-241-1114   \n",
       "367  의료법인정안의료재단중앙병원  울산광역시 남구 문수로 472, 중앙병원 (신정동)  지역응급의료센터  052-226-1100   \n",
       "252            울산병원    울산광역시 남구 월평로171번길 13 (신정동)  지역응급의료센터  052-259-5000   \n",
       "\n",
       "           전화번호 3         위도          경도     거리  \n",
       "299  052-241-1190  35.553410  129.301943  2.032  \n",
       "367  052-226-1119  35.532088  129.304840  2.125  \n",
       "252  052-259-5119  35.546217  129.323100  2.390  "
      ]
     },
     "execution_count": 15,
     "metadata": {},
     "output_type": "execute_result"
    }
   ],
   "source": [
    "predicted_class = 2\n",
    "start_lat, start_lng = 35.548238, 129.307011\n",
    "\n",
    "if predicted_class <= 2 :\n",
    "    result = em.recommend_hospital3(path, emergency, start_lat, start_lng, c_id, c_key)\n",
    "\n",
    "result"
   ]
  },
  {
   "cell_type": "code",
   "execution_count": null,
   "metadata": {
    "id": "aWAyWtFZrpQq"
   },
   "outputs": [],
   "source": []
  },
  {
   "cell_type": "markdown",
   "metadata": {
    "id": "D73P_NjZq585"
   },
   "source": [
    "## **3. 통합 테스트**\n",
    "\n",
    "* 세부사항\n",
    "    * [2. 단위 테스트] 의 내용을 순차적으로 실행하며 결과를 확인합니다."
   ]
  },
  {
   "cell_type": "code",
   "execution_count": 16,
   "metadata": {
    "id": "pb3oRhKDfHpc"
   },
   "outputs": [
    {
     "name": "stdout",
     "output_type": "stream",
     "text": [
      "응답 데이터에서 예상되는 키를 찾을 수 없음: 'route'\n"
     ]
    },
    {
     "data": {
      "text/html": [
       "<div>\n",
       "<style scoped>\n",
       "    .dataframe tbody tr th:only-of-type {\n",
       "        vertical-align: middle;\n",
       "    }\n",
       "\n",
       "    .dataframe tbody tr th {\n",
       "        vertical-align: top;\n",
       "    }\n",
       "\n",
       "    .dataframe thead th {\n",
       "        text-align: right;\n",
       "    }\n",
       "</style>\n",
       "<table border=\"1\" class=\"dataframe\">\n",
       "  <thead>\n",
       "    <tr style=\"text-align: right;\">\n",
       "      <th></th>\n",
       "      <th>병원이름</th>\n",
       "      <th>주소</th>\n",
       "      <th>응급의료기관 종류</th>\n",
       "      <th>전화번호 1</th>\n",
       "      <th>전화번호 3</th>\n",
       "      <th>위도</th>\n",
       "      <th>경도</th>\n",
       "      <th>거리</th>\n",
       "    </tr>\n",
       "  </thead>\n",
       "  <tbody>\n",
       "    <tr>\n",
       "      <th>299</th>\n",
       "      <td>의료법인동강의료재단동강병원</td>\n",
       "      <td>울산광역시 중구 태화로 239 (태화동)</td>\n",
       "      <td>지역응급의료센터</td>\n",
       "      <td>052-241-1114</td>\n",
       "      <td>052-241-1190</td>\n",
       "      <td>35.553410</td>\n",
       "      <td>129.301943</td>\n",
       "      <td>2.032</td>\n",
       "    </tr>\n",
       "    <tr>\n",
       "      <th>367</th>\n",
       "      <td>의료법인정안의료재단중앙병원</td>\n",
       "      <td>울산광역시 남구 문수로 472, 중앙병원 (신정동)</td>\n",
       "      <td>지역응급의료센터</td>\n",
       "      <td>052-226-1100</td>\n",
       "      <td>052-226-1119</td>\n",
       "      <td>35.532088</td>\n",
       "      <td>129.304840</td>\n",
       "      <td>2.125</td>\n",
       "    </tr>\n",
       "    <tr>\n",
       "      <th>252</th>\n",
       "      <td>울산병원</td>\n",
       "      <td>울산광역시 남구 월평로171번길 13 (신정동)</td>\n",
       "      <td>지역응급의료센터</td>\n",
       "      <td>052-259-5000</td>\n",
       "      <td>052-259-5119</td>\n",
       "      <td>35.546217</td>\n",
       "      <td>129.323100</td>\n",
       "      <td>2.390</td>\n",
       "    </tr>\n",
       "  </tbody>\n",
       "</table>\n",
       "</div>"
      ],
      "text/plain": [
       "               병원이름                            주소 응급의료기관 종류        전화번호 1  \\\n",
       "299  의료법인동강의료재단동강병원        울산광역시 중구 태화로 239 (태화동)  지역응급의료센터  052-241-1114   \n",
       "367  의료법인정안의료재단중앙병원  울산광역시 남구 문수로 472, 중앙병원 (신정동)  지역응급의료센터  052-226-1100   \n",
       "252            울산병원    울산광역시 남구 월평로171번길 13 (신정동)  지역응급의료센터  052-259-5000   \n",
       "\n",
       "           전화번호 3         위도          경도     거리  \n",
       "299  052-241-1190  35.553410  129.301943  2.032  \n",
       "367  052-226-1119  35.532088  129.304840  2.125  \n",
       "252  052-259-5119  35.546217  129.323100  2.390  "
      ]
     },
     "metadata": {},
     "output_type": "display_data"
    }
   ],
   "source": [
    "# 1. 준비 작업 ---------------------------------------------\n",
    "openai.api_key = em.load_file(path + 'api_key.txt')\n",
    "os.environ['OPENAI_API_KEY'] = openai.api_key\n",
    "\n",
    "map_key = em.load_file(path + 'map_key.txt')\n",
    "map_key = json.loads(map_key)\n",
    "c_id, c_key = map_key['c_id'], map_key['c_key']\n",
    "\n",
    "emergency = pd.read_csv(path + '응급실 정보.csv')\n",
    "\n",
    "# 모델, 토크나이저 로드\n",
    "save_directory = path + \"fine_tuned_bert\"\n",
    "model = AutoModelForSequenceClassification.from_pretrained(save_directory)\n",
    "tokenizer = AutoTokenizer.from_pretrained(save_directory)\n",
    "\n",
    "\n",
    "# 2. 데이터 처리(pipeline) ---------------------------------\n",
    "# input\n",
    "audio_path = path + 'audio/'\n",
    "filename = 'audio1.mp3'\n",
    "\n",
    "# 처리\n",
    "result = em.audio_to_text(audio_path, filename)\n",
    "result = em.text_summary(result)\n",
    "predicted_class, _ = em.predict(result, model, tokenizer)\n",
    "\n",
    "# 테스트 input --------------------\n",
    "predicted_class = 2  # 테스트용\n",
    "start_lat, start_lng = 35.548238, 129.307011\n",
    "# ---------------------------------\n",
    "\n",
    "if predicted_class <= 2 :\n",
    "    result = em.recommend_hospital3(path, emergency, start_lat, start_lng, c_id, c_key)\n",
    "    display(result)\n",
    "else :\n",
    "    print('개인 건강관리')"
   ]
  },
  {
   "cell_type": "code",
   "execution_count": null,
   "metadata": {
    "id": "5bO80WuryK3t"
   },
   "outputs": [],
   "source": []
  }
 ],
 "metadata": {
  "colab": {
   "provenance": [],
   "toc_visible": true
  },
  "kernelspec": {
   "display_name": "em",
   "language": "python",
   "name": "python3"
  },
  "language_info": {
   "codemirror_mode": {
    "name": "ipython",
    "version": 3
   },
   "file_extension": ".py",
   "mimetype": "text/x-python",
   "name": "python",
   "nbconvert_exporter": "python",
   "pygments_lexer": "ipython3",
   "version": "3.12.8"
  }
 },
 "nbformat": 4,
 "nbformat_minor": 0
}
